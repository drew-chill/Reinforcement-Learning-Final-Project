{
 "cells": [
  {
   "cell_type": "markdown",
   "metadata": {
    "id": "jX1hSkLf24NM"
   },
   "source": [
    "## The analytical task objective"
   ]
  },
  {
   "cell_type": "markdown",
   "metadata": {
    "id": "VDYl3BMX3QnN"
   },
   "source": [
    "Assume the scenario of the project:  \n",
    "Zhang San is a bookstore owner. He plans to open several bookstores in Macao. After investigation, it is found that the people who love reading in Macao mainly live in the 50 buildings selected above. Zhang San should consider where the bookstore would be most conducive to the operation of the bookstore in Macao. Therefore, the number of bookstores and the location relationship between bookstores and buildings can effect the operation of the bookstores. At the same time, he has two trucks for incoming goods, and needs to design an optimal distribution route."
   ]
  },
  {
   "cell_type": "markdown",
   "metadata": {
    "id": "hVa12H_U3QxA"
   },
   "source": [
    "## The challenges of this project and the main solutions"
   ]
  },
  {
   "cell_type": "markdown",
   "metadata": {
    "id": "gtc4IRa_3dUk"
   },
   "source": [
    "This experiment solves these problems through clustering and path planning.  \n",
    "\n",
    "**Clustering**  \n",
    "Select the number of cluster centers according to the number of bookstores, and each bookstore serves the users of buildings belonging to the cluster. The project using Kmeans algorithm to divided 50 buildings into 5 categories. Therefore, the 5 cluster centers are the location of bookstores.  \n",
    "  \n",
    "**Path planning**   \n",
    "*Intra-class*  \n",
    "The location of each bookstore should consider the shortest path of such buildings. The TSP problem implemented by greedy algorithm is used for path planning. The buildings in each category will be formed into a shortest route.  \n",
    "\n",
    "*Inter-class*  \n",
    "This project entails transporting goods from the port of entry to each bookstore. It will be solved by ortools library. The output is the weight to be carried by each vehicle and the distribution routes."
   ]
  },
  {
   "cell_type": "code",
   "execution_count": 1,
   "metadata": {
    "id": "426e41e5"
   },
   "outputs": [
    {
     "ename": "ModuleNotFoundError",
     "evalue": "No module named 'geopandas'",
     "output_type": "error",
     "traceback": [
      "\u001B[1;31m---------------------------------------------------------------------------\u001B[0m",
      "\u001B[1;31mModuleNotFoundError\u001B[0m                       Traceback (most recent call last)",
      "\u001B[1;32m<ipython-input-1-7306fb542146>\u001B[0m in \u001B[0;36m<module>\u001B[1;34m\u001B[0m\n\u001B[1;32m----> 1\u001B[1;33m \u001B[1;32mimport\u001B[0m \u001B[0mgeopandas\u001B[0m \u001B[1;32mas\u001B[0m \u001B[0mgpd\u001B[0m\u001B[1;33m\u001B[0m\u001B[1;33m\u001B[0m\u001B[0m\n\u001B[0m\u001B[0;32m      2\u001B[0m \u001B[1;32mimport\u001B[0m \u001B[0mmatplotlib\u001B[0m\u001B[1;33m.\u001B[0m\u001B[0mpyplot\u001B[0m \u001B[1;32mas\u001B[0m \u001B[0mplt\u001B[0m\u001B[1;33m\u001B[0m\u001B[1;33m\u001B[0m\u001B[0m\n\u001B[0;32m      3\u001B[0m \u001B[1;32mimport\u001B[0m \u001B[0mnetworkx\u001B[0m \u001B[1;32mas\u001B[0m \u001B[0mnx\u001B[0m\u001B[1;33m\u001B[0m\u001B[1;33m\u001B[0m\u001B[0m\n\u001B[0;32m      4\u001B[0m \u001B[1;32mimport\u001B[0m \u001B[0mnumpy\u001B[0m \u001B[1;32mas\u001B[0m \u001B[0mnp\u001B[0m\u001B[1;33m\u001B[0m\u001B[1;33m\u001B[0m\u001B[0m\n\u001B[0;32m      5\u001B[0m \u001B[1;32mimport\u001B[0m \u001B[0mosmnx\u001B[0m \u001B[1;32mas\u001B[0m \u001B[0mox\u001B[0m\u001B[1;33m\u001B[0m\u001B[1;33m\u001B[0m\u001B[0m\n",
      "\u001B[1;31mModuleNotFoundError\u001B[0m: No module named 'geopandas'"
     ]
    }
   ],
   "source": [
    "import geopandas as gpd\n",
    "import matplotlib.pyplot as plt\n",
    "import networkx as nx\n",
    "import numpy as np\n",
    "import osmnx as ox\n",
    "import pandana\n",
    "import pandas as pd\n",
    "from IPython.display import display, clear_output\n",
    "from scipy.spatial.distance import euclidean\n",
    "from sklearn.cluster import KMeans"
   ]
  },
  {
   "cell_type": "code",
   "execution_count": 2,
   "metadata": {
    "id": "WcAR0h7fkRXx"
   },
   "outputs": [
    {
     "ename": "ModuleNotFoundError",
     "evalue": "No module named 'ortools'",
     "output_type": "error",
     "traceback": [
      "\u001B[1;31m---------------------------------------------------------------------------\u001B[0m",
      "\u001B[1;31mModuleNotFoundError\u001B[0m                       Traceback (most recent call last)",
      "\u001B[1;32m<ipython-input-2-82c89c20e2f6>\u001B[0m in \u001B[0;36m<module>\u001B[1;34m\u001B[0m\n\u001B[1;32m----> 1\u001B[1;33m \u001B[1;32mfrom\u001B[0m \u001B[0mortools\u001B[0m\u001B[1;33m.\u001B[0m\u001B[0mconstraint_solver\u001B[0m \u001B[1;32mimport\u001B[0m \u001B[0mrouting_enums_pb2\u001B[0m\u001B[1;33m\u001B[0m\u001B[1;33m\u001B[0m\u001B[0m\n\u001B[0m\u001B[0;32m      2\u001B[0m \u001B[1;32mfrom\u001B[0m \u001B[0mortools\u001B[0m\u001B[1;33m.\u001B[0m\u001B[0mconstraint_solver\u001B[0m \u001B[1;32mimport\u001B[0m \u001B[0mpywrapcp\u001B[0m\u001B[1;33m\u001B[0m\u001B[1;33m\u001B[0m\u001B[0m\n",
      "\u001B[1;31mModuleNotFoundError\u001B[0m: No module named 'ortools'"
     ]
    }
   ],
   "source": [
    "from ortools.constraint_solver import routing_enums_pb2\n",
    "from ortools.constraint_solver import pywrapcp"
   ]
  },
  {
   "cell_type": "markdown",
   "metadata": {
    "id": "YUCqRi_ONtjL"
   },
   "source": [
    "## Analytical Task"
   ]
  },
  {
   "cell_type": "markdown",
   "metadata": {
    "id": "-abKgzDyNz2W"
   },
   "source": [
    "### 1. Clustering\n",
    "#### Find the locations of bookstores"
   ]
  },
  {
   "cell_type": "code",
   "execution_count": 3,
   "metadata": {
    "id": "4542491e"
   },
   "outputs": [],
   "source": [
    "def extract_schools_buildings(place='Macau'):\n",
    "    ox.config(log_console=True, use_cache=True)\n",
    "    tags = {'building': ['residential']}\n",
    "    all_buildings = ox.geometries_from_place(place, tags=tags)\n",
    "    # we only interested in building names and it's geometric information\n",
    "    all_buildings = all_buildings[['name', 'geometry']]\n",
    "    all_buildings = all_buildings[~(all_buildings['name'].isnull())]\n",
    "    all_buildings = all_buildings[~(all_buildings['geometry'].isnull())]\n",
    "    all_buildings['center'] = gpd.points_from_xy(x=all_buildings['geometry'].bounds[['minx', 'maxx']].mean(axis=1),\n",
    "                                                 y=all_buildings['geometry'].bounds[['miny', 'maxy']].mean(axis=1))\n",
    "\n",
    "    tags = {'amenity': ['school']}\n",
    "    all_schools = ox.geometries_from_place(place, tags=tags)\n",
    "    all_schools = all_schools[~(all_schools['name'].isnull())]\n",
    "    all_schools = all_schools[~(all_schools['geometry'].isnull())]\n",
    "    all_schools['center'] = gpd.points_from_xy(x=all_schools['geometry'].bounds[['minx', 'maxx']].mean(axis=1),\n",
    "                                               y=all_schools['geometry'].bounds[['miny', 'maxy']].mean(axis=1))\n",
    "    return all_schools, all_buildings\n",
    "\n",
    "\n",
    "def generate_case(all_schools, all_buildings, n=20):\n",
    "    school = all_schools.sample(1).iloc[0]\n",
    "    node_school = ox.distance.nearest_nodes(G, X=school['center'].x, Y=school['center'].y)\n",
    "    buildings = all_buildings.sample(1)\n",
    "    while True:\n",
    "        tmp = buildings.iloc[-1]\n",
    "        node_building = ox.distance.nearest_nodes(G, X=tmp['center'].x, Y=tmp['center'].y)\n",
    "        if not (nx.has_path(G, node_school, node_building) and nx.has_path(G, node_building, node_school)):\n",
    "            buildings.drop(buildings.tail(1).index, inplace=True)\n",
    "        if len(buildings) >= n:\n",
    "            break\n",
    "        buildings = pd.concat([buildings, all_buildings.sample(1)])\n",
    "\n",
    "    return school, buildings\n"
   ]
  },
  {
   "cell_type": "markdown",
   "metadata": {
    "id": "cf973dee"
   },
   "source": [
    "1.1 Data Download(select 50 buildings in Macau)"
   ]
  },
  {
   "cell_type": "code",
   "execution_count": 4,
   "metadata": {
    "colab": {
     "base_uri": "https://localhost:8080/"
    },
    "id": "6cc2142c",
    "outputId": "488298ca-333c-4dd8-ecb0-d1a1bce8b3fb"
   },
   "outputs": [
    {
     "ename": "NameError",
     "evalue": "name 'ox' is not defined",
     "output_type": "error",
     "traceback": [
      "\u001B[1;31m---------------------------------------------------------------------------\u001B[0m",
      "\u001B[1;31mNameError\u001B[0m                                 Traceback (most recent call last)",
      "\u001B[1;32m<ipython-input-4-95d0307b2123>\u001B[0m in \u001B[0;36m<module>\u001B[1;34m\u001B[0m\n\u001B[1;32m----> 1\u001B[1;33m \u001B[0mox\u001B[0m\u001B[1;33m.\u001B[0m\u001B[0mconfig\u001B[0m\u001B[1;33m(\u001B[0m\u001B[0mlog_console\u001B[0m\u001B[1;33m=\u001B[0m\u001B[1;32mTrue\u001B[0m\u001B[1;33m,\u001B[0m \u001B[0muse_cache\u001B[0m\u001B[1;33m=\u001B[0m\u001B[1;32mTrue\u001B[0m\u001B[1;33m)\u001B[0m\u001B[1;33m\u001B[0m\u001B[1;33m\u001B[0m\u001B[0m\n\u001B[0m\u001B[0;32m      2\u001B[0m \u001B[0mG\u001B[0m \u001B[1;33m=\u001B[0m \u001B[0mox\u001B[0m\u001B[1;33m.\u001B[0m\u001B[0mgraph_from_place\u001B[0m\u001B[1;33m(\u001B[0m\u001B[1;34m'Macau'\u001B[0m\u001B[1;33m,\u001B[0m \u001B[0mnetwork_type\u001B[0m\u001B[1;33m=\u001B[0m\u001B[1;34m'drive'\u001B[0m\u001B[1;33m)\u001B[0m\u001B[1;33m\u001B[0m\u001B[1;33m\u001B[0m\u001B[0m\n\u001B[0;32m      3\u001B[0m \u001B[0mall_schools\u001B[0m\u001B[1;33m,\u001B[0m \u001B[0mall_buildings\u001B[0m \u001B[1;33m=\u001B[0m \u001B[0mextract_schools_buildings\u001B[0m\u001B[1;33m(\u001B[0m\u001B[1;34m'Macau'\u001B[0m\u001B[1;33m)\u001B[0m\u001B[1;33m\u001B[0m\u001B[1;33m\u001B[0m\u001B[0m\n\u001B[0;32m      4\u001B[0m \u001B[0mschool\u001B[0m\u001B[1;33m,\u001B[0m \u001B[0mbuildings\u001B[0m \u001B[1;33m=\u001B[0m \u001B[0mgenerate_case\u001B[0m\u001B[1;33m(\u001B[0m\u001B[0mall_schools\u001B[0m\u001B[1;33m,\u001B[0m \u001B[0mall_buildings\u001B[0m\u001B[1;33m,\u001B[0m \u001B[1;36m50\u001B[0m\u001B[1;33m)\u001B[0m\u001B[1;33m\u001B[0m\u001B[1;33m\u001B[0m\u001B[0m\n\u001B[0;32m      5\u001B[0m \u001B[0mprint\u001B[0m\u001B[1;33m(\u001B[0m\u001B[0mbuildings\u001B[0m\u001B[1;33m[\u001B[0m\u001B[1;34m'name'\u001B[0m\u001B[1;33m]\u001B[0m\u001B[1;33m)\u001B[0m\u001B[1;33m\u001B[0m\u001B[1;33m\u001B[0m\u001B[0m\n",
      "\u001B[1;31mNameError\u001B[0m: name 'ox' is not defined"
     ]
    }
   ],
   "source": [
    "ox.config(log_console=True, use_cache=True)\n",
    "G = ox.graph_from_place('Macau', network_type='drive')\n",
    "all_schools, all_buildings = extract_schools_buildings('Macau')\n",
    "school, buildings = generate_case(all_schools, all_buildings, 50)\n",
    "print(buildings['name'])"
   ]
  },
  {
   "cell_type": "markdown",
   "metadata": {
    "id": "55504034"
   },
   "source": [
    "1.2 KMeans clustering"
   ]
  },
  {
   "cell_type": "code",
   "execution_count": 5,
   "metadata": {
    "colab": {
     "base_uri": "https://localhost:8080/",
     "height": 301
    },
    "id": "62cc287d",
    "outputId": "24f3fe07-2caf-4568-b6f8-55dc090b001f"
   },
   "outputs": [
    {
     "ename": "NameError",
     "evalue": "name 'buildings' is not defined",
     "output_type": "error",
     "traceback": [
      "\u001B[1;31m---------------------------------------------------------------------------\u001B[0m",
      "\u001B[1;31mNameError\u001B[0m                                 Traceback (most recent call last)",
      "\u001B[1;32m<ipython-input-5-5b77542ebf68>\u001B[0m in \u001B[0;36m<module>\u001B[1;34m\u001B[0m\n\u001B[1;32m----> 1\u001B[1;33m \u001B[0mbuildings_X\u001B[0m \u001B[1;33m=\u001B[0m \u001B[0mbuildings\u001B[0m\u001B[1;33m[\u001B[0m\u001B[1;34m'center'\u001B[0m\u001B[1;33m]\u001B[0m\u001B[1;33m.\u001B[0m\u001B[0mx\u001B[0m\u001B[1;33m.\u001B[0m\u001B[0mvalues\u001B[0m\u001B[1;33m.\u001B[0m\u001B[0mreshape\u001B[0m\u001B[1;33m(\u001B[0m\u001B[1;33m-\u001B[0m\u001B[1;36m1\u001B[0m\u001B[1;33m,\u001B[0m \u001B[1;36m1\u001B[0m\u001B[1;33m)\u001B[0m\u001B[1;33m\u001B[0m\u001B[1;33m\u001B[0m\u001B[0m\n\u001B[0m\u001B[0;32m      2\u001B[0m \u001B[0mbuildings_Y\u001B[0m \u001B[1;33m=\u001B[0m \u001B[0mbuildings\u001B[0m\u001B[1;33m[\u001B[0m\u001B[1;34m'center'\u001B[0m\u001B[1;33m]\u001B[0m\u001B[1;33m.\u001B[0m\u001B[0my\u001B[0m\u001B[1;33m.\u001B[0m\u001B[0mvalues\u001B[0m\u001B[1;33m.\u001B[0m\u001B[0mreshape\u001B[0m\u001B[1;33m(\u001B[0m\u001B[1;33m-\u001B[0m\u001B[1;36m1\u001B[0m\u001B[1;33m,\u001B[0m \u001B[1;36m1\u001B[0m\u001B[1;33m)\u001B[0m\u001B[1;33m\u001B[0m\u001B[1;33m\u001B[0m\u001B[0m\n\u001B[0;32m      3\u001B[0m \u001B[0mbuildings_C\u001B[0m \u001B[1;33m=\u001B[0m \u001B[0mnp\u001B[0m\u001B[1;33m.\u001B[0m\u001B[0mhstack\u001B[0m\u001B[1;33m(\u001B[0m\u001B[1;33m(\u001B[0m\u001B[0mbuildings_X\u001B[0m\u001B[1;33m,\u001B[0m \u001B[0mbuildings_Y\u001B[0m\u001B[1;33m)\u001B[0m\u001B[1;33m)\u001B[0m\u001B[1;33m\u001B[0m\u001B[1;33m\u001B[0m\u001B[0m\n\u001B[0;32m      4\u001B[0m \u001B[1;33m\u001B[0m\u001B[0m\n\u001B[0;32m      5\u001B[0m \u001B[0mn_clusters\u001B[0m \u001B[1;33m=\u001B[0m \u001B[1;36m5\u001B[0m\u001B[1;33m\u001B[0m\u001B[1;33m\u001B[0m\u001B[0m\n",
      "\u001B[1;31mNameError\u001B[0m: name 'buildings' is not defined"
     ]
    }
   ],
   "source": [
    "buildings_X = buildings['center'].x.values.reshape(-1, 1)\n",
    "buildings_Y = buildings['center'].y.values.reshape(-1, 1)\n",
    "buildings_C = np.hstack((buildings_X, buildings_Y))\n",
    "\n",
    "n_clusters = 5\n",
    "model = KMeans(n_clusters=n_clusters)\n",
    "epochs = 10\n",
    "for i in range(epochs):\n",
    "    y_pred = model.fit_predict(buildings_C)\n",
    "center = model.cluster_centers_\n",
    "# 画图显示样本数据\n",
    "plt.figure('Kmeans', facecolor='lightgray')\n",
    "plt.title('Kmeans', fontsize=16)\n",
    "plt.xlabel('X', fontsize=14)\n",
    "plt.ylabel('Y', fontsize=14)\n",
    "plt.tick_params(labelsize=10)\n",
    "plt.scatter(buildings_C[:, 0], buildings_C[:, 1], s=80, c=y_pred, cmap='brg', label='Samples')\n",
    "plt.scatter(center[:, 0], center[:, 1], s=20, c=\"#000000\")\n",
    "plt.legend()\n",
    "plt.show()"
   ]
  },
  {
   "cell_type": "markdown",
   "metadata": {},
   "source": [
    "From the scatter plot, it can be seen that the 50 buildings are divided into 5 categories,  \n",
    "and the 5 small black dots refer to the clustering results, i.e. the addresses of the bookstores."
   ]
  },
  {
   "cell_type": "markdown",
   "metadata": {
    "id": "3cbbbcff"
   },
   "source": [
    "1.3 Add clustering results to geodataframe data"
   ]
  },
  {
   "cell_type": "code",
   "execution_count": 6,
   "metadata": {
    "colab": {
     "base_uri": "https://localhost:8080/",
     "height": 590
    },
    "id": "1eaf6ddb",
    "outputId": "afc6986a-cc1d-4fae-8051-1ccbbec048b1"
   },
   "outputs": [
    {
     "ename": "NameError",
     "evalue": "name 'model' is not defined",
     "output_type": "error",
     "traceback": [
      "\u001B[1;31m---------------------------------------------------------------------------\u001B[0m",
      "\u001B[1;31mNameError\u001B[0m                                 Traceback (most recent call last)",
      "\u001B[1;32m<ipython-input-6-ad0a36d861a1>\u001B[0m in \u001B[0;36m<module>\u001B[1;34m\u001B[0m\n\u001B[0;32m      1\u001B[0m \u001B[1;31m# Find the subscript of the point closest to the center of each cluster\u001B[0m\u001B[1;33m\u001B[0m\u001B[1;33m\u001B[0m\u001B[1;33m\u001B[0m\u001B[0m\n\u001B[0;32m      2\u001B[0m \u001B[0mclosest_pt_idx\u001B[0m \u001B[1;33m=\u001B[0m \u001B[1;33m[\u001B[0m\u001B[1;33m]\u001B[0m\u001B[1;33m\u001B[0m\u001B[1;33m\u001B[0m\u001B[0m\n\u001B[1;32m----> 3\u001B[1;33m \u001B[1;32mfor\u001B[0m \u001B[0miclust\u001B[0m \u001B[1;32min\u001B[0m \u001B[0mrange\u001B[0m\u001B[1;33m(\u001B[0m\u001B[0mmodel\u001B[0m\u001B[1;33m.\u001B[0m\u001B[0mn_clusters\u001B[0m\u001B[1;33m)\u001B[0m\u001B[1;33m:\u001B[0m\u001B[1;33m\u001B[0m\u001B[1;33m\u001B[0m\u001B[0m\n\u001B[0m\u001B[0;32m      4\u001B[0m     \u001B[1;31m# get all points assigned to each cluster:\u001B[0m\u001B[1;33m\u001B[0m\u001B[1;33m\u001B[0m\u001B[1;33m\u001B[0m\u001B[0m\n\u001B[0;32m      5\u001B[0m     \u001B[0mcluster_pts\u001B[0m \u001B[1;33m=\u001B[0m \u001B[0mbuildings_C\u001B[0m\u001B[1;33m[\u001B[0m\u001B[0mmodel\u001B[0m\u001B[1;33m.\u001B[0m\u001B[0mlabels_\u001B[0m \u001B[1;33m==\u001B[0m \u001B[0miclust\u001B[0m\u001B[1;33m]\u001B[0m\u001B[1;33m\u001B[0m\u001B[1;33m\u001B[0m\u001B[0m\n",
      "\u001B[1;31mNameError\u001B[0m: name 'model' is not defined"
     ]
    }
   ],
   "source": [
    "# Find the subscript of the point closest to the center of each cluster\n",
    "closest_pt_idx = []\n",
    "for iclust in range(model.n_clusters):\n",
    "    # get all points assigned to each cluster:\n",
    "    cluster_pts = buildings_C[model.labels_ == iclust]\n",
    "    # get all indices of points assigned to this cluster:\n",
    "    cluster_pts_indices = np.where(model.labels_ == iclust)[0]\n",
    "\n",
    "    cluster_cen = model.cluster_centers_[iclust]\n",
    "    min_idx = np.argmin([euclidean(buildings_C[idx], cluster_cen) for idx in cluster_pts_indices])\n",
    "    # print(cluster_pts_indices[min_idx])\n",
    "    closest_pt_idx.append(cluster_pts_indices[min_idx])\n",
    "\n",
    "buildings['class'] = None\n",
    "for i in range(len(y_pred)):\n",
    "    buildings['class'][i] = y_pred[i]\n",
    "\n",
    "buildings_list = []\n",
    "cluster_list = []\n",
    "for i in range(n_clusters):\n",
    "    buildings_tmp = buildings[buildings['class'] == i]\n",
    "    buildings_list.append(buildings_tmp)\n",
    "    cluster_tmp = buildings[closest_pt_idx[i]: closest_pt_idx[i] + 1]\n",
    "    cluster_list.append(cluster_tmp)\n",
    "\n",
    "fig, ax = ox.plot_graph(G, bgcolor=\"w\", node_size=1, node_color=\"gray\", edge_color=\"#aaa\", show=False, close=False)\n",
    "for i in range(n_clusters):\n",
    "    ax.scatter(cluster_list[i]['center'].x, cluster_list[i]['center'].y, c=\"#000000\", marker=\"s\", alpha=1, zorder=4)\n",
    "ax.scatter(buildings['center'].x, buildings['center'].y, c=buildings['class'], alpha=1, zorder=3)"
   ]
  },
  {
   "cell_type": "markdown",
   "metadata": {
    "id": "5269de62"
   },
   "source": [
    "### 2. Path planning -- Intra-class\n",
    "####  Finding the best route of each cluster"
   ]
  },
  {
   "cell_type": "code",
   "execution_count": 7,
   "metadata": {
    "id": "81b87909"
   },
   "outputs": [],
   "source": [
    "def TSP_Pandana(G_pan, cluster, buildings, print_msg=False):\n",
    "    # Find nearest node in graph\n",
    "    node_cluster = G_pan.get_node_ids([cluster['center'].x], [cluster['center'].y]).iloc[\n",
    "        0]  # x,y in pandana must be pandas.series\n",
    "    nodes_buildings = list(G_pan.get_node_ids(buildings['center'].x, buildings['center'].y))\n",
    "\n",
    "    # For output the name of path\n",
    "    node_name = {}  # mapping of node to building name\n",
    "    node_name[node_cluster] = cluster['name']\n",
    "    for i in range(len(nodes_buildings)):\n",
    "        node_name[nodes_buildings[i]] = buildings.iloc[i]['name']\n",
    "\n",
    "    # Init\n",
    "    p = node_cluster\n",
    "    # if print_msg:\n",
    "    #     print(node_name[p], end='')\n",
    "    travel_path = []\n",
    "    residual_nodes_buildings = nodes_buildings.copy()\n",
    "    total_distance = 0\n",
    "\n",
    "    # TSP - Implement the Ｎearest Ｎeighbor based TSP　algorithm\n",
    "    # use Pandana to find the shortest path\n",
    "    # *************** your code begin ***************\n",
    "    print_travel_path = []\n",
    "\n",
    "    cur_node = node_cluster\n",
    "    print_travel_path.append(node_name[cur_node])\n",
    "    next_node = None\n",
    "    while len(residual_nodes_buildings) != 0:\n",
    "        cur_dis = float(\"inf\")\n",
    "        for i in range(len(residual_nodes_buildings)):\n",
    "            path_length = G_pan.shortest_path_length(cur_node, residual_nodes_buildings[i])\n",
    "            if path_length < cur_dis:\n",
    "                cur_dis = path_length\n",
    "                next_node = residual_nodes_buildings[i]\n",
    "        travel_path.append(list(G_pan.shortest_path(cur_node, next_node)))\n",
    "        cur_node = next_node\n",
    "        residual_nodes_buildings.remove(next_node)\n",
    "        print_travel_path.append(node_name[cur_node])\n",
    "        total_distance += cur_dis\n",
    "\n",
    "    # print result\n",
    "    if print_msg:\n",
    "        for i in range(len(print_travel_path)):\n",
    "            print(print_travel_path[i] + \"——>\", end='')\n",
    "        print(print_travel_path[0])  # back to the source node\n",
    "\n",
    "        print('Total distance: %f' % total_distance + \"m\")\n",
    "\n",
    "    # path = list(G_pan.shortest_path(p, node_school))\n",
    "    # *************** your code end ***************\n",
    "    return travel_path"
   ]
  },
  {
   "cell_type": "markdown",
   "metadata": {},
   "source": [
    "2.1 Use greedy algorithm to solve TSP problem"
   ]
  },
  {
   "cell_type": "code",
   "execution_count": 8,
   "metadata": {
    "colab": {
     "base_uri": "https://localhost:8080/",
     "height": 466
    },
    "id": "2886ee9e",
    "outputId": "5c99ac46-2c1b-4990-b580-0c882a13f6f6"
   },
   "outputs": [
    {
     "ename": "NameError",
     "evalue": "name 'ox' is not defined",
     "output_type": "error",
     "traceback": [
      "\u001B[1;31m---------------------------------------------------------------------------\u001B[0m",
      "\u001B[1;31mNameError\u001B[0m                                 Traceback (most recent call last)",
      "\u001B[1;32m<ipython-input-8-8e3aa42b9a09>\u001B[0m in \u001B[0;36m<module>\u001B[1;34m\u001B[0m\n\u001B[1;32m----> 1\u001B[1;33m \u001B[0mnodes\u001B[0m\u001B[1;33m,\u001B[0m \u001B[0medges\u001B[0m \u001B[1;33m=\u001B[0m \u001B[0mox\u001B[0m\u001B[1;33m.\u001B[0m\u001B[0mgraph_to_gdfs\u001B[0m\u001B[1;33m(\u001B[0m\u001B[0mG\u001B[0m\u001B[1;33m,\u001B[0m \u001B[0mnodes\u001B[0m\u001B[1;33m=\u001B[0m\u001B[1;32mTrue\u001B[0m\u001B[1;33m,\u001B[0m \u001B[0medges\u001B[0m\u001B[1;33m=\u001B[0m\u001B[1;32mTrue\u001B[0m\u001B[1;33m)\u001B[0m\u001B[1;33m\u001B[0m\u001B[1;33m\u001B[0m\u001B[0m\n\u001B[0m\u001B[0;32m      2\u001B[0m \u001B[0medges\u001B[0m \u001B[1;33m=\u001B[0m \u001B[0medges\u001B[0m\u001B[1;33m.\u001B[0m\u001B[0mreset_index\u001B[0m\u001B[1;33m(\u001B[0m\u001B[1;33m)\u001B[0m\u001B[1;33m\u001B[0m\u001B[1;33m\u001B[0m\u001B[0m\n\u001B[0;32m      3\u001B[0m \u001B[0mG_pan\u001B[0m \u001B[1;33m=\u001B[0m \u001B[0mpandana\u001B[0m\u001B[1;33m.\u001B[0m\u001B[0mNetwork\u001B[0m\u001B[1;33m(\u001B[0m\u001B[0mnodes\u001B[0m\u001B[1;33m[\u001B[0m\u001B[1;34m'x'\u001B[0m\u001B[1;33m]\u001B[0m\u001B[1;33m,\u001B[0m \u001B[0mnodes\u001B[0m\u001B[1;33m[\u001B[0m\u001B[1;34m'y'\u001B[0m\u001B[1;33m]\u001B[0m\u001B[1;33m,\u001B[0m \u001B[0medges\u001B[0m\u001B[1;33m[\u001B[0m\u001B[1;34m'u'\u001B[0m\u001B[1;33m]\u001B[0m\u001B[1;33m,\u001B[0m \u001B[0medges\u001B[0m\u001B[1;33m[\u001B[0m\u001B[1;34m'v'\u001B[0m\u001B[1;33m]\u001B[0m\u001B[1;33m,\u001B[0m \u001B[0medges\u001B[0m\u001B[1;33m[\u001B[0m\u001B[1;33m[\u001B[0m\u001B[1;34m'length'\u001B[0m\u001B[1;33m]\u001B[0m\u001B[1;33m]\u001B[0m\u001B[1;33m,\u001B[0m \u001B[0mtwoway\u001B[0m\u001B[1;33m=\u001B[0m\u001B[1;32mFalse\u001B[0m\u001B[1;33m)\u001B[0m\u001B[1;33m\u001B[0m\u001B[1;33m\u001B[0m\u001B[0m\n\u001B[0;32m      4\u001B[0m \u001B[1;33m\u001B[0m\u001B[0m\n\u001B[0;32m      5\u001B[0m \u001B[0mfig\u001B[0m\u001B[1;33m,\u001B[0m \u001B[0max\u001B[0m \u001B[1;33m=\u001B[0m \u001B[0mox\u001B[0m\u001B[1;33m.\u001B[0m\u001B[0mplot_graph\u001B[0m\u001B[1;33m(\u001B[0m\u001B[0mG\u001B[0m\u001B[1;33m,\u001B[0m \u001B[0mbgcolor\u001B[0m\u001B[1;33m=\u001B[0m\u001B[1;34m\"w\"\u001B[0m\u001B[1;33m,\u001B[0m \u001B[0mnode_size\u001B[0m\u001B[1;33m=\u001B[0m\u001B[1;36m1\u001B[0m\u001B[1;33m,\u001B[0m \u001B[0mnode_color\u001B[0m\u001B[1;33m=\u001B[0m\u001B[1;34m\"gray\"\u001B[0m\u001B[1;33m,\u001B[0m \u001B[0medge_color\u001B[0m\u001B[1;33m=\u001B[0m\u001B[1;34m\"#aaa\"\u001B[0m\u001B[1;33m,\u001B[0m \u001B[0mshow\u001B[0m\u001B[1;33m=\u001B[0m\u001B[1;32mFalse\u001B[0m\u001B[1;33m,\u001B[0m \u001B[0mclose\u001B[0m\u001B[1;33m=\u001B[0m\u001B[1;32mFalse\u001B[0m\u001B[1;33m)\u001B[0m\u001B[1;33m\u001B[0m\u001B[1;33m\u001B[0m\u001B[0m\n",
      "\u001B[1;31mNameError\u001B[0m: name 'ox' is not defined"
     ]
    }
   ],
   "source": [
    "nodes, edges = ox.graph_to_gdfs(G, nodes=True, edges=True)\n",
    "edges = edges.reset_index()\n",
    "G_pan = pandana.Network(nodes['x'], nodes['y'], edges['u'], edges['v'], edges[['length']], twoway=False)\n",
    "\n",
    "fig, ax = ox.plot_graph(G, bgcolor=\"w\", node_size=1, node_color=\"gray\", edge_color=\"#aaa\", show=False, close=False)\n",
    "for i in range(n_clusters):\n",
    "    ax.scatter(cluster_list[i]['center'].x, cluster_list[i]['center'].y, c=\"#000000\", marker=\"s\", alpha=1, zorder=4)\n",
    "ax.scatter(buildings['center'].x, buildings['center'].y, c=buildings['class'], alpha=1, zorder=3)\n",
    "for i in range(n_clusters):\n",
    "    travel_path = TSP_Pandana(G_pan, cluster=cluster_list[i], buildings=buildings_list[i], print_msg=False)\n",
    "    for path in travel_path:\n",
    "        clear_output(wait=True)\n",
    "        ox.plot_graph_route(G, path, ax=ax, orig_dest_size=0, route_alpha=0.5, route_colors='r', route_linewidths=2,\n",
    "                            show=False, close=False)\n",
    "        plt.pause(0.1)\n",
    "        display(fig)"
   ]
  },
  {
   "cell_type": "markdown",
   "metadata": {
    "id": "LE5cau7_OS1n"
   },
   "source": [
    "As you can see from the above diagram, each center corresponds to buildings that form a closed-loop route,  \n",
    "which can be used to adjust the location of the bookstore."
   ]
  },
  {
   "cell_type": "markdown",
   "metadata": {
    "id": "KHGxsR4ROTRB"
   },
   "source": [
    "### 3. Path planning -- Inter-class\n",
    "####  Finding the best routes of centers"
   ]
  },
  {
   "cell_type": "markdown",
   "metadata": {},
   "source": [
    "3.1 Calculate distance matrix between centers"
   ]
  },
  {
   "cell_type": "code",
   "execution_count": 9,
   "metadata": {
    "id": "ZXJGkQTEUDZW"
   },
   "outputs": [
    {
     "ename": "NameError",
     "evalue": "name 'G_pan' is not defined",
     "output_type": "error",
     "traceback": [
      "\u001B[1;31m---------------------------------------------------------------------------\u001B[0m",
      "\u001B[1;31mNameError\u001B[0m                                 Traceback (most recent call last)",
      "\u001B[1;32m<ipython-input-9-63aaed7cb687>\u001B[0m in \u001B[0;36m<module>\u001B[1;34m\u001B[0m\n\u001B[0;32m      1\u001B[0m \u001B[1;31m#澳门口岸中心 22.214919498514952, 113.54830707004824\u001B[0m\u001B[1;33m\u001B[0m\u001B[1;33m\u001B[0m\u001B[1;33m\u001B[0m\u001B[0m\n\u001B[1;32m----> 2\u001B[1;33m \u001B[0mstart\u001B[0m \u001B[1;33m=\u001B[0m \u001B[0mG_pan\u001B[0m\u001B[1;33m.\u001B[0m\u001B[0mget_node_ids\u001B[0m\u001B[1;33m(\u001B[0m\u001B[1;33m[\u001B[0m\u001B[1;36m113.54830707004824\u001B[0m\u001B[1;33m]\u001B[0m\u001B[1;33m,\u001B[0m \u001B[1;33m[\u001B[0m\u001B[1;36m22.214919498514952\u001B[0m\u001B[1;33m]\u001B[0m\u001B[1;33m)\u001B[0m\u001B[1;33m.\u001B[0m\u001B[0miloc\u001B[0m\u001B[1;33m[\u001B[0m\u001B[1;36m0\u001B[0m\u001B[1;33m]\u001B[0m\u001B[1;33m\u001B[0m\u001B[1;33m\u001B[0m\u001B[0m\n\u001B[0m\u001B[0;32m      3\u001B[0m \u001B[0mnearest_nodes\u001B[0m \u001B[1;33m=\u001B[0m \u001B[1;33m[\u001B[0m\u001B[0mstart\u001B[0m\u001B[1;33m]\u001B[0m\u001B[1;33m\u001B[0m\u001B[1;33m\u001B[0m\u001B[0m\n\u001B[0;32m      4\u001B[0m \u001B[1;32mfor\u001B[0m \u001B[0mi\u001B[0m \u001B[1;32min\u001B[0m \u001B[0mrange\u001B[0m\u001B[1;33m(\u001B[0m\u001B[1;36m5\u001B[0m\u001B[1;33m)\u001B[0m\u001B[1;33m:\u001B[0m\u001B[1;33m\u001B[0m\u001B[1;33m\u001B[0m\u001B[0m\n\u001B[0;32m      5\u001B[0m   \u001B[0mnode_building\u001B[0m \u001B[1;33m=\u001B[0m \u001B[0mG_pan\u001B[0m\u001B[1;33m.\u001B[0m\u001B[0mget_node_ids\u001B[0m\u001B[1;33m(\u001B[0m\u001B[1;33m[\u001B[0m\u001B[0mcenter\u001B[0m\u001B[1;33m[\u001B[0m\u001B[0mi\u001B[0m\u001B[1;33m]\u001B[0m\u001B[1;33m[\u001B[0m\u001B[1;36m0\u001B[0m\u001B[1;33m]\u001B[0m\u001B[1;33m]\u001B[0m\u001B[1;33m,\u001B[0m\u001B[1;33m[\u001B[0m\u001B[0mcenter\u001B[0m\u001B[1;33m[\u001B[0m\u001B[0mi\u001B[0m\u001B[1;33m]\u001B[0m\u001B[1;33m[\u001B[0m\u001B[1;36m1\u001B[0m\u001B[1;33m]\u001B[0m\u001B[1;33m]\u001B[0m\u001B[1;33m)\u001B[0m\u001B[1;33m.\u001B[0m\u001B[0miloc\u001B[0m\u001B[1;33m[\u001B[0m\u001B[1;36m0\u001B[0m\u001B[1;33m]\u001B[0m\u001B[1;33m\u001B[0m\u001B[1;33m\u001B[0m\u001B[0m\n",
      "\u001B[1;31mNameError\u001B[0m: name 'G_pan' is not defined"
     ]
    }
   ],
   "source": [
    "#澳门口岸中心 22.214919498514952, 113.54830707004824\n",
    "start = G_pan.get_node_ids([113.54830707004824], [22.214919498514952]).iloc[0]\n",
    "nearest_nodes = [start]\n",
    "for i in range(5):\n",
    "  node_building = G_pan.get_node_ids([center[i][0]],[center[i][1]]).iloc[0]\n",
    "  nearest_nodes.append(node_building)\n",
    "\n",
    "a = len(nearest_nodes)\n",
    "distance_matrix = np.zeros(shape=(a,a))\n",
    "for i in range(len(nearest_nodes)):\n",
    "    for j in range(len(nearest_nodes)):\n",
    "        distance_matrix[i][j] = G_pan.shortest_path_length(nearest_nodes[i], nearest_nodes[j])"
   ]
  },
  {
   "cell_type": "code",
   "execution_count": 10,
   "metadata": {
    "colab": {
     "base_uri": "https://localhost:8080/"
    },
    "id": "7uCbcx_bjvmq",
    "outputId": "fbe44418-7687-4855-dbf0-5dfb47a3dfb1"
   },
   "outputs": [
    {
     "ename": "NameError",
     "evalue": "name 'distance_matrix' is not defined",
     "output_type": "error",
     "traceback": [
      "\u001B[1;31m---------------------------------------------------------------------------\u001B[0m",
      "\u001B[1;31mNameError\u001B[0m                                 Traceback (most recent call last)",
      "\u001B[1;32m<ipython-input-10-4cc89e5ca3d0>\u001B[0m in \u001B[0;36m<module>\u001B[1;34m\u001B[0m\n\u001B[1;32m----> 1\u001B[1;33m \u001B[0mdistance_matrix\u001B[0m\u001B[1;33m\u001B[0m\u001B[1;33m\u001B[0m\u001B[0m\n\u001B[0m",
      "\u001B[1;31mNameError\u001B[0m: name 'distance_matrix' is not defined"
     ]
    }
   ],
   "source": [
    "distance_matrix"
   ]
  },
  {
   "cell_type": "markdown",
   "metadata": {},
   "source": [
    "3.2 Find the optimal path by allocating the number of trucks, the capacity of each truck and the amount of goods demanded by each bookstore"
   ]
  },
  {
   "cell_type": "code",
   "execution_count": 11,
   "metadata": {
    "id": "TDcbclz3jeJ6"
   },
   "outputs": [
    {
     "ename": "NameError",
     "evalue": "name 'distance_matrix' is not defined",
     "output_type": "error",
     "traceback": [
      "\u001B[1;31m---------------------------------------------------------------------------\u001B[0m",
      "\u001B[1;31mNameError\u001B[0m                                 Traceback (most recent call last)",
      "\u001B[1;32m<ipython-input-11-36e4765d3aa5>\u001B[0m in \u001B[0;36m<module>\u001B[1;34m\u001B[0m\n\u001B[0;32m      1\u001B[0m \u001B[0mdata\u001B[0m \u001B[1;33m=\u001B[0m \u001B[1;33m{\u001B[0m\u001B[1;33m}\u001B[0m\u001B[1;33m\u001B[0m\u001B[1;33m\u001B[0m\u001B[0m\n\u001B[1;32m----> 2\u001B[1;33m \u001B[0mdata\u001B[0m\u001B[1;33m[\u001B[0m\u001B[1;34m'distance_matrix'\u001B[0m\u001B[1;33m]\u001B[0m \u001B[1;33m=\u001B[0m \u001B[0mdistance_matrix\u001B[0m\u001B[1;33m\u001B[0m\u001B[1;33m\u001B[0m\u001B[0m\n\u001B[0m\u001B[0;32m      3\u001B[0m \u001B[0mdata\u001B[0m\u001B[1;33m[\u001B[0m\u001B[1;34m'demands'\u001B[0m\u001B[1;33m]\u001B[0m \u001B[1;33m=\u001B[0m \u001B[1;33m[\u001B[0m\u001B[1;36m0\u001B[0m\u001B[1;33m,\u001B[0m\u001B[1;36m20\u001B[0m\u001B[1;33m,\u001B[0m\u001B[1;36m20\u001B[0m\u001B[1;33m,\u001B[0m\u001B[1;36m20\u001B[0m\u001B[1;33m,\u001B[0m\u001B[1;36m20\u001B[0m\u001B[1;33m,\u001B[0m\u001B[1;36m20\u001B[0m\u001B[1;33m]\u001B[0m\u001B[1;33m\u001B[0m\u001B[1;33m\u001B[0m\u001B[0m\n\u001B[0;32m      4\u001B[0m \u001B[0mdata\u001B[0m\u001B[1;33m[\u001B[0m\u001B[1;34m'vehicle_capacities'\u001B[0m\u001B[1;33m]\u001B[0m \u001B[1;33m=\u001B[0m \u001B[1;33m[\u001B[0m\u001B[1;36m60\u001B[0m\u001B[1;33m,\u001B[0m\u001B[1;36m60\u001B[0m\u001B[1;33m]\u001B[0m\u001B[1;33m\u001B[0m\u001B[1;33m\u001B[0m\u001B[0m\n\u001B[0;32m      5\u001B[0m \u001B[0mdata\u001B[0m\u001B[1;33m[\u001B[0m\u001B[1;34m'num_vehicles'\u001B[0m\u001B[1;33m]\u001B[0m \u001B[1;33m=\u001B[0m \u001B[1;36m2\u001B[0m\u001B[1;33m\u001B[0m\u001B[1;33m\u001B[0m\u001B[0m\n",
      "\u001B[1;31mNameError\u001B[0m: name 'distance_matrix' is not defined"
     ]
    }
   ],
   "source": [
    "data = {}\n",
    "data['distance_matrix'] = distance_matrix\n",
    "data['demands'] = [0,20,20,20,20,20]\n",
    "data['vehicle_capacities'] = [60,60]\n",
    "data['num_vehicles'] = 2\n",
    "data['depot'] = 0"
   ]
  },
  {
   "cell_type": "code",
   "execution_count": 12,
   "metadata": {
    "colab": {
     "base_uri": "https://localhost:8080/"
    },
    "id": "ugXDV-x4jeOl",
    "outputId": "9c296255-d262-4d7c-cba3-fa31c7890130"
   },
   "outputs": [
    {
     "ename": "NameError",
     "evalue": "name 'pywrapcp' is not defined",
     "output_type": "error",
     "traceback": [
      "\u001B[1;31m---------------------------------------------------------------------------\u001B[0m",
      "\u001B[1;31mNameError\u001B[0m                                 Traceback (most recent call last)",
      "\u001B[1;32m<ipython-input-12-2a98b292fa74>\u001B[0m in \u001B[0;36m<module>\u001B[1;34m\u001B[0m\n\u001B[0;32m     83\u001B[0m \u001B[1;33m\u001B[0m\u001B[0m\n\u001B[0;32m     84\u001B[0m \u001B[1;32mif\u001B[0m \u001B[0m__name__\u001B[0m \u001B[1;33m==\u001B[0m \u001B[1;34m'__main__'\u001B[0m\u001B[1;33m:\u001B[0m\u001B[1;33m\u001B[0m\u001B[1;33m\u001B[0m\u001B[0m\n\u001B[1;32m---> 85\u001B[1;33m     \u001B[0mmain\u001B[0m\u001B[1;33m(\u001B[0m\u001B[1;33m)\u001B[0m\u001B[1;33m\u001B[0m\u001B[1;33m\u001B[0m\u001B[0m\n\u001B[0m",
      "\u001B[1;32m<ipython-input-12-2a98b292fa74>\u001B[0m in \u001B[0;36mmain\u001B[1;34m()\u001B[0m\n\u001B[0;32m     33\u001B[0m \u001B[1;33m\u001B[0m\u001B[0m\n\u001B[0;32m     34\u001B[0m     \u001B[1;31m# Create the routing index manager.\u001B[0m\u001B[1;33m\u001B[0m\u001B[1;33m\u001B[0m\u001B[1;33m\u001B[0m\u001B[0m\n\u001B[1;32m---> 35\u001B[1;33m     \u001B[0mmanager\u001B[0m \u001B[1;33m=\u001B[0m \u001B[0mpywrapcp\u001B[0m\u001B[1;33m.\u001B[0m\u001B[0mRoutingIndexManager\u001B[0m\u001B[1;33m(\u001B[0m\u001B[0mlen\u001B[0m\u001B[1;33m(\u001B[0m\u001B[0mdata\u001B[0m\u001B[1;33m[\u001B[0m\u001B[1;34m'distance_matrix'\u001B[0m\u001B[1;33m]\u001B[0m\u001B[1;33m)\u001B[0m\u001B[1;33m,\u001B[0m \u001B[0mdata\u001B[0m\u001B[1;33m[\u001B[0m\u001B[1;34m'num_vehicles'\u001B[0m\u001B[1;33m]\u001B[0m\u001B[1;33m,\u001B[0m \u001B[0mdata\u001B[0m\u001B[1;33m[\u001B[0m\u001B[1;34m'depot'\u001B[0m\u001B[1;33m]\u001B[0m\u001B[1;33m)\u001B[0m\u001B[1;33m\u001B[0m\u001B[1;33m\u001B[0m\u001B[0m\n\u001B[0m\u001B[0;32m     36\u001B[0m \u001B[1;33m\u001B[0m\u001B[0m\n\u001B[0;32m     37\u001B[0m     \u001B[1;31m# Create Routing Model.\u001B[0m\u001B[1;33m\u001B[0m\u001B[1;33m\u001B[0m\u001B[1;33m\u001B[0m\u001B[0m\n",
      "\u001B[1;31mNameError\u001B[0m: name 'pywrapcp' is not defined"
     ]
    }
   ],
   "source": [
    "def print_solution(data, manager, routing, solution):\n",
    "    \"\"\"Prints solution on console.\"\"\"\n",
    "    total_distance = 0\n",
    "    total_load = 0\n",
    "    for vehicle_id in range(data['num_vehicles']):\n",
    "        index = routing.Start(vehicle_id)\n",
    "        plan_output = 'Route for vehicle {}:\\n'.format(vehicle_id)\n",
    "        route_distance = 0\n",
    "        route_load = 0\n",
    "        while not routing.IsEnd(index):\n",
    "            node_index = manager.IndexToNode(index)\n",
    "            route_load += data['demands'][node_index]\n",
    "            plan_output += ' {0} Load({1}) -> '.format(node_index, route_load)\n",
    "            previous_index = index\n",
    "            index = solution.Value(routing.NextVar(index))\n",
    "            route_distance += routing.GetArcCostForVehicle(\n",
    "                previous_index, index, vehicle_id)\n",
    "        plan_output += ' {0} Load({1})\\n'.format(manager.IndexToNode(index),\n",
    "                                                 route_load)\n",
    "        plan_output += 'Distance of the route: {}m\\n'.format(route_distance)\n",
    "        plan_output += 'Load of the route: {}\\n'.format(route_load)\n",
    "        print(plan_output)\n",
    "        total_distance += route_distance\n",
    "        total_load += route_load\n",
    "    print('Total distance of all routes: {}m'.format(total_distance))\n",
    "    print('Total load of all routes: {}'.format(total_load))\n",
    " \n",
    " \n",
    "def main():\n",
    "    \"\"\"Solve the CVRP problem.\"\"\"\n",
    "    # Instantiate the data problem.\n",
    "    #data = create_data_model()\n",
    " \n",
    "    # Create the routing index manager.\n",
    "    manager = pywrapcp.RoutingIndexManager(len(data['distance_matrix']), data['num_vehicles'], data['depot'])\n",
    " \n",
    "    # Create Routing Model.\n",
    "    routing = pywrapcp.RoutingModel(manager)\n",
    " \n",
    " \n",
    "    # Create and register a transit callback.\n",
    "    def distance_callback(from_index, to_index):\n",
    "        \"\"\"Returns the distance between the two nodes.\"\"\"\n",
    "        # Convert from routing variable Index to distance matrix NodeIndex.\n",
    "        from_node = manager.IndexToNode(from_index)\n",
    "        to_node = manager.IndexToNode(to_index)\n",
    "        return data['distance_matrix'][from_node][to_node]\n",
    " \n",
    "    transit_callback_index = routing.RegisterTransitCallback(distance_callback)\n",
    " \n",
    "    # Define cost of each arc.\n",
    "    routing.SetArcCostEvaluatorOfAllVehicles(transit_callback_index)\n",
    " \n",
    " \n",
    "    # Add Capacity constraint.\n",
    "    def demand_callback(from_index):\n",
    "        \"\"\"Returns the demand of the node.\"\"\"\n",
    "        # Convert from routing variable Index to demands NodeIndex.\n",
    "        from_node = manager.IndexToNode(from_index)\n",
    "        return data['demands'][from_node]\n",
    " \n",
    "    demand_callback_index = routing.RegisterUnaryTransitCallback(\n",
    "        demand_callback)\n",
    "    routing.AddDimensionWithVehicleCapacity(\n",
    "        demand_callback_index,\n",
    "        0,  # null capacity slack\n",
    "        data['vehicle_capacities'],  # vehicle maximum capacities\n",
    "        True,  # start cumul to zero\n",
    "        'Capacity')\n",
    " \n",
    "    # Setting first solution heuristic.\n",
    "    search_parameters = pywrapcp.DefaultRoutingSearchParameters()\n",
    "    search_parameters.first_solution_strategy = (\n",
    "        routing_enums_pb2.FirstSolutionStrategy.PATH_CHEAPEST_ARC)\n",
    " \n",
    "    # Solve the problem.\n",
    "    solution = routing.SolveWithParameters(search_parameters)\n",
    " \n",
    "    # Print solution on console.\n",
    "    if solution:\n",
    "        print_solution(data, manager, routing, solution)\n",
    " \n",
    " \n",
    "if __name__ == '__main__':\n",
    "    main()\n"
   ]
  },
  {
   "cell_type": "markdown",
   "metadata": {
    "id": "TEXgqrLtfeo9"
   },
   "source": [
    "From the configuration results, it is clear that there are two trucks here, each with a loadable capacity of 60, and the amount of goods demanded by each bookstore is 20.  \n",
    "\n",
    "Starting from the port of entry, the two trucks distribute the goods according to the routes of (0->1->3->2->0) and (0->5->4->0) respectively. The first truck is loaded with 60 capacity and send goods to the 1st, 3rd and 2nd bookstores in turn. The total distance of route is 26733m. The second truck is loaded with 40 capacity and send goods to the 5th and 4th bookstores in turn. The total distance of route is 4288m. "
   ]
  },
  {
   "cell_type": "code",
   "execution_count": null,
   "metadata": {},
   "outputs": [],
   "source": []
  },
  {
   "cell_type": "code",
   "execution_count": null,
   "metadata": {},
   "outputs": [],
   "source": []
  }
 ],
 "metadata": {
  "colab": {
   "name": "project02.ipynb",
   "provenance": []
  },
  "kernelspec": {
   "display_name": "Python 3",
   "language": "python",
   "name": "python3"
  },
  "language_info": {
   "codemirror_mode": {
    "name": "ipython",
    "version": 3
   },
   "file_extension": ".py",
   "mimetype": "text/x-python",
   "name": "python",
   "nbconvert_exporter": "python",
   "pygments_lexer": "ipython3",
   "version": "3.8.5"
  }
 },
 "nbformat": 4,
 "nbformat_minor": 5
}